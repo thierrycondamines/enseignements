{
 "cells": [
  {
   "cell_type": "markdown",
   "id": "c8e0e8e8-fa7d-4d4d-aedf-e0d90fdce819",
   "metadata": {},
   "source": [
    "# Les Algorithmes génétiques"
   ]
  },
  {
   "cell_type": "markdown",
   "id": "26a8533c-8676-458f-8fdd-e91e655908d6",
   "metadata": {},
   "source": [
    "<div align=\"justify\">\n",
    "Les algorithmes génétiques sont une classe d’algorithmes appartenant à la famille des algorithmes évolutionnistes (bioinspirés) dont le principe s’inspire de la théorie de l’évolution pour résoudre des\n",
    "problèmes divers. Leur objectif est d’obtenir une solution approchée à un problème d’optimisation en partant d’un ensemble de solutions potentielles au problèmes et en leur faisant subir un processus de sélection naturelle.\n",
    "</div>\n",
    "<div align=\"justify\">\n",
    "Dans la suite, on va considérer une fonction réelle à une variable, que l’on notera f, dont on cherche à calculer un extrémum global dans un intervalle donné [a,b].\n",
    "</div>"
   ]
  },
  {
   "cell_type": "markdown",
   "id": "46a9a9a1-0d88-41b3-adc6-1b570e631a6a",
   "metadata": {},
   "source": [
    "## 1. Générer une population"
   ]
  },
  {
   "cell_type": "markdown",
   "id": "085ed8b7-e833-45cd-85d0-b760be2af25a",
   "metadata": {},
   "source": [
    "<div align=\"justify\">Nous allons considérer une <b>population</b> de N <b>individus</b>. Un individu représente le dispositif que l’on cherche à optimiser. Comme dans le cas biologique, on va considérer qu’un individu est composé de un ou plusieurs <b>chromosomes</b>, ces derniers étant composés de un ou plusieurs <b>gènes</b>. Un gène correspond à une variable d’optimisation $x_i$."
   ]
  },
  {
   "cell_type": "markdown",
   "id": "6b6024ee-49c6-43aa-8c8a-fec4e3ea7b3f",
   "metadata": {},
   "source": [
    "![](https://github.com/thierrycondamines/NSI/Algorithmes_genetiques/ga10.gif)"
   ]
  },
  {
   "cell_type": "markdown",
   "id": "12a10925-9ed2-488b-9de6-5670bf72f389",
   "metadata": {},
   "source": [
    "<div align=\"justify\">Dans le cas simple d’une fonction à une variable réelle, un individu sera composé d’un seul chromosome (on pourra alors confondre individu et chromosome), lui-même constitué d’un seul gène codant la valeur de $x$. D’un point de vue informatique, on utilise souvent un codage binaire, c’est à dire qu’un gène est un entier long (32 bits). Il en existe d’autres (codage de Gray, …). L’avantage du codage binaire est de pouvoir coder n’importe quel objet : réel, entier, booléen, chaîne de caractère, … Il faudra juste écrire des fonctions de codage et de décodage pour passer d’une représentation à l’autre.</div>\n",
    "\n",
    "<div align=\"justify\">Pour coder notre variable réelle x en binaire, nous allons discrétiser notre intervalle. Ainsi, sur 32 bits, nous discrétisons notre intervalle en $g_{max} = 2^{32}-1 = $ 4 294 967 295 valeurs discrètes. On va alors associer à $x$ un entier long $g$ compris entre $0$ et $g_{max}$. Les formules de codage et décodage sont alors les suivantes :</div>\n",
    "\n",
    "- Codage : $g = \\frac{x-a}{b-a} \\times g_{max}$\n",
    "- Décodage : $x = a + (b-a) \\times \\frac{g}{g_{max}}$\n",
    "\n",
    "<div align=\"justify\">La première étape de l’algorithme va être de générer notre population, c’est à dire un ensemble de $N$ valeurs de départ de l’intervalle $[a,b]$. On pourrait prendre des individus régulièrement répartis dans l’intervalle, mais on utilise souvent une initialisation aléatoire : les valeurs des gènes sont tirés au hasard selon une distribution uniforme. Le choix de la taille $N$ de la population devra être choisi dans un compromis entre temps de calcul et qualité de la solution. On pourra prendre ici $N = 20$ par exemple.</div>\n",
    "\n",
    "On considère les variables suivantes (paramètres de l’algorithme génétique) :"
   ]
  },
  {
   "cell_type": "code",
   "execution_count": 3,
   "id": "9fc20fd4-10da-48f2-bb30-447a15071a29",
   "metadata": {},
   "outputs": [],
   "source": [
    "import numpy as np\n",
    "import matplotlib.pyplot as plt\n",
    "\n",
    "population_size = 20           # Taille de la population (nombre de chromosomes)\n",
    "generations     = 100          # Nombre de générations (évolution de la population)\n",
    "selection_rate  = 1.           # Taux de sélection du meilleur chromosome\n",
    "mutation_rate   = 0.01         # Taux de mutation (ici 1%)\n",
    "bit_length      = 16           # ou 32 bits/gènes, taille de la châine binaire représentant un chromosome \n",
    "x_range         = (-10 , 10)   # intervalle de recherche de l'optimum"
   ]
  },
  {
   "cell_type": "markdown",
   "id": "ed8dd8af-02cb-47e3-adcc-446532b15eda",
   "metadata": {},
   "source": [
    "1. <div align=\"justify\">Ecrivez un fonction de codage $real\\_to\\_binary(x,x\\_range,bit\\_length)$ qui convertit la valeur réelle $x$ en représentation binaire sous forme d’une chaîne de caractères. Par exemple $x=3.256$ sera converti en '$1010100110101100$' en 16 bits.</div>"
   ]
  },
  {
   "cell_type": "code",
   "execution_count": 5,
   "id": "28a8ed67-10d8-4fee-80f7-9997a7f4ac06",
   "metadata": {},
   "outputs": [],
   "source": [
    "def real_to_binary(x, x_range, bit_length):\n",
    "    ...\n",
    "    return f\"{...:0{bit_length}b}\""
   ]
  },
  {
   "cell_type": "markdown",
   "id": "df76fa22-159b-4dfb-9c21-e5c4ad42f773",
   "metadata": {},
   "source": [
    "2.\t<div align=\"justify\">Ecrivez une fonction de décodage $binary\\_to\\_real(binatry\\_str, x\\_range)$ qui convertit une représentation binaire sous forme d’une chaîne de caractères en un nombre réel. Dans l’exemple précédent '$1010100110101100$’ sera converti en $3.2558175020981164$.</div>"
   ]
  },
  {
   "cell_type": "code",
   "execution_count": 6,
   "id": "4cdc8ec5-0626-4798-9e30-29989b50470f",
   "metadata": {},
   "outputs": [],
   "source": [
    "def binary_to_real(binary_str, x_range):\n",
    "    ...\n",
    "    return ..."
   ]
  },
  {
   "cell_type": "markdown",
   "id": "f30cd0d5-9bab-4f15-a585-4eb9af3fff48",
   "metadata": {},
   "source": [
    "3.\t<div align=\"justify\">Ecrivez une fonction $initialize\\_population(pop\\_size, bit\\_length)$ qui retourne une liste de chaînes binaires de $bit\\_length$ bits :</div>"
   ]
  },
  {
   "cell_type": "code",
   "execution_count": 7,
   "id": "23217115-5ed0-4de1-885d-30c630ab36fe",
   "metadata": {},
   "outputs": [],
   "source": [
    "# Initialisation de la population (chaînes binaires)\n",
    "def initialize_population(pop_size, bit_length):\n",
    "    return [f\"{np.random.randint(0, 2**bit_length):0{bit_length}b}\" for _ in range(pop_size)]"
   ]
  },
  {
   "cell_type": "markdown",
   "id": "7ea38c15-20b8-4688-a785-c410d2fe1027",
   "metadata": {},
   "source": [
    "<div align=\"justify\">On utilise, pour simplifier, ici les f-string python. np est l’alias de la bibliothèque numpy. Ne pas oublier les import au début du fichier. </div>"
   ]
  },
  {
   "cell_type": "markdown",
   "id": "42844e50-02b4-43dd-a688-ccedcdd86b30",
   "metadata": {},
   "source": [
    "## 2. Fonction d’évaluation (fitness)"
   ]
  },
  {
   "cell_type": "markdown",
   "id": "733cd830-7599-46be-8268-c0867ac18850",
   "metadata": {},
   "source": [
    "Il s’agit ici de la fonction à optimiser."
   ]
  },
  {
   "cell_type": "markdown",
   "id": "ba77637f-8cef-4165-82a5-be4f05ebdf5d",
   "metadata": {},
   "source": [
    "4.\t<div align=\"justify\">Ecrivez une fonction $fitness(x)$ qui retourne la valeur de $f(x)$ pour $x$ réel. Par exemple : </div>"
   ]
  },
  {
   "cell_type": "code",
   "execution_count": 8,
   "id": "5f102f7f-5bf1-4f88-86d3-72a9e11db41d",
   "metadata": {},
   "outputs": [],
   "source": [
    "# Fonction à optimiser (f(x) = x^2 - 4x + 4)\n",
    "def fitness(x):\n",
    "    return x**2 - 4*x + 4"
   ]
  },
  {
   "cell_type": "markdown",
   "id": "bdc729a6-771b-4c3b-85dc-bb7af2477edc",
   "metadata": {},
   "source": [
    "## 3. Sélection / élimination"
   ]
  },
  {
   "cell_type": "markdown",
   "id": "35054d59-2eef-45bc-87d5-7341fb6b6577",
   "metadata": {},
   "source": [
    "<div align=\"justify\">On appelle <b>génération</b> la population à un instant $t$ donné. Une fois qu’on a réalisé l’évaluation de tous les individus de la population, on opère une sélection de $N/2$ couples d’individus qui vont pouvoir se reproduire. Il existe plusieurs méthodes de sélection (plus ou moins élitistes). Nous allons utiliser une <b>sélection par tournoi</b>. Deux individus sont choisis au hasard et combattent en comparant leur fitness (valeur de la fonction d’évaluation). Le plus adapté l’emporte.</div> "
   ]
  },
  {
   "cell_type": "markdown",
   "id": "32c1fe20-7f47-4a4e-a8da-9ac489e868cf",
   "metadata": {},
   "source": [
    "*Remarque :* Ici la probabilité que l’individu qui a la meilleure valeur de fitness soit gagnant ($selection\\_rate$) est égale à 1, ce qui peut induire un certain élitisme pénalisant l’efficacité de l’algorithme. On peut introduire une probabilité légèrement inférieur à 1 que le meilleur individu l’emporte."
   ]
  },
  {
   "cell_type": "markdown",
   "id": "55ca00bc-a405-4e9c-96f4-1f06401c701b",
   "metadata": {},
   "source": [
    "5.\t<div align=\"justify\">Écrire une fonction $selection(population,selection\\_rate)$ qui tire au hasard 2 individus de la population, calcule leur valeur de fitness et retourne le meilleur avec une probabilité $selection\\_rate$.</div>"
   ]
  },
  {
   "cell_type": "code",
   "execution_count": 10,
   "id": "02549d66-fb87-4ae2-9e9a-98d4a9b2cacb",
   "metadata": {},
   "outputs": [],
   "source": [
    "# Sélection par tournoi\n",
    "def selection(population):\n",
    "    ...\n",
    "    return ..."
   ]
  },
  {
   "cell_type": "markdown",
   "id": "890f4213-cd2b-43af-ab67-31348f09e045",
   "metadata": {},
   "source": [
    "## 4. Opérateur croisement (crossover)"
   ]
  },
  {
   "cell_type": "markdown",
   "id": "62c18550-4aae-48ac-b40a-2443f0efc693",
   "metadata": {},
   "source": [
    "<div align=\"justify\">Lorsque 2 individus ont été sélectionnés, les chromosomes sont alors combinés de façon à former deux descendants possédant des caractéristiques issues des parents. Cette opération de croisement favorise l’espace de recherche par un brassage du matériel génétique. Il existe plusieurs types de croisements dont les suivants :</div>"
   ]
  },
  {
   "cell_type": "markdown",
   "id": "85584e9d-81f1-4195-8233-e5a6bb04fd96",
   "metadata": {},
   "source": [
    "- Le croisement en un point : on choisit au hasard un point de croisement pour chaque couple (au niveau binaire) et on échange les parties de chromosomes :"
   ]
  },
  {
   "cell_type": "code",
   "execution_count": 17,
   "id": "6ef41e33-4102-4bc4-913b-e69c5268575e",
   "metadata": {},
   "outputs": [
    {
     "data": {
      "image/gif": "[encoded data removed]",
      "text/plain": [
       "<IPython.core.display.Image object>"
      ]
     },
     "execution_count": 17,
     "metadata": {},
     "output_type": "execute_result"
    }
   ],
   "source": [
    "from IPython.display import Image\n",
    "Image(filename=\"croisement1.gif\")"
   ]
  },
  {
   "cell_type": "markdown",
   "id": "9c5fad2b-03a6-4481-a1ab-38596f6c7f34",
   "metadata": {},
   "source": [
    "- Le croisement en deux points : On choisit au hasard deux points de croisement :"
   ]
  },
  {
   "cell_type": "code",
   "execution_count": 16,
   "id": "fcb08e4e-b715-4788-9fd2-b8661369783f",
   "metadata": {},
   "outputs": [
    {
     "data": {
      "image/gif": "[encoded data removed]",
      "text/plain": [
       "<IPython.core.display.Image object>"
      ]
     },
     "execution_count": 16,
     "metadata": {},
     "output_type": "execute_result"
    }
   ],
   "source": [
    "from IPython.display import Image\n",
    "Image(filename=\"croisement2.gif\")"
   ]
  },
  {
   "cell_type": "markdown",
   "id": "d4410799-95bd-4229-9985-54c75e553dd9",
   "metadata": {},
   "source": [
    "<div align=\"justify\">Le croisement en 2 points est souvent plus efficace que le premier. Il en existe d’autres plus complexes (croisement en k points, croisement uniforme, …). Par simplicité on implantera ici le croisement en 1 point.</div>"
   ]
  },
  {
   "cell_type": "markdown",
   "id": "a501a054-7224-443e-9c0c-1c578bb86b9f",
   "metadata": {},
   "source": [
    "6.\t<div align=\"justify\">Écrire une fonction $crossover(parent1,parent2)$ qui réalise le croisement de deux individus et retourne 2 descendants.</div>"
   ]
  },
  {
   "cell_type": "code",
   "execution_count": null,
   "id": "432be262-b2b1-4764-bd54-0aa9074f3808",
   "metadata": {},
   "outputs": [],
   "source": [
    "# Croisement (crossover)\n",
    "def crossover(parent1, parent2):\n",
    "    ...\n",
    "    return child1, child2"
   ]
  },
  {
   "cell_type": "markdown",
   "id": "77caadc9-7c8a-422f-b50b-7ca0bfcae52e",
   "metadata": {},
   "source": [
    "## 5. Opérateur de mutation"
   ]
  },
  {
   "cell_type": "markdown",
   "id": "91149fa8-e42e-4a34-a0ef-fbfee6836483",
   "metadata": {},
   "source": [
    "<div align=\"justify\">Une mutation correspond à l’inversion d’un bit/gène dans un chromosome. Les mutations jouent le rôle de bruit et empêchent l’évolution de se figer, permettant ainsi d’assurer une recherche aussi bien locale que globale, selon le poids et le nombre de bits mutés. De plus elles garantissent mathématiquement que l’optimum global peut être atteint...au bout d'un certain temps.</div>"
   ]
  },
  {
   "cell_type": "code",
   "execution_count": null,
   "id": "8928fd1c-7ad0-45bc-94db-37953e6bbe4d",
   "metadata": {},
   "outputs": [],
   "source": []
  },
  {
   "cell_type": "code",
   "execution_count": null,
   "id": "dfe9404d-966d-4f91-9cee-3b242863022d",
   "metadata": {},
   "outputs": [],
   "source": []
  },
  {
   "cell_type": "code",
   "execution_count": 18,
   "id": "1779d698-5201-491e-88c3-99530c05ceef",
   "metadata": {},
   "outputs": [
    {
     "data": {
      "image/gif": "[encoded data removed]",
      "text/plain": [
       "<IPython.core.display.Image object>"
      ]
     },
     "execution_count": 18,
     "metadata": {},
     "output_type": "execute_result"
    }
   ],
   "source": [
    "from IPython.display import Image\n",
    "Image(filename=\"mutation.gif\")"
   ]
  },
  {
   "cell_type": "markdown",
   "id": "27ddcb1c-3df0-48d4-8bdc-399ccc24d760",
   "metadata": {},
   "source": [
    "<div align=\"justify\">Elles évitent également l’homogénéisation d’une population à cause des erreurs stochastiques : les gênes favorisés par le hasard peuvent en effet se répandre au détriment des autre (dérive génétique). Les mutations apportent de nouveaux gènes constamment.</div>"
   ]
  },
  {
   "cell_type": "markdown",
   "id": "7f9c7eb4-7044-4f37-ae7a-f65aca49ba55",
   "metadata": {},
   "source": [
    "<div align=\"justify\">Ici aussi il existe plusieurs méthodes. La probabilité $p$ qu’un bit mute est souvent comprise entre $0.001$ et $0.01$. On peut aussi prendre $p =1/l$ où $l$ est le nombre de bits composant un chromosome. On peut aussi associer une probabilité différente à chaque gène et elles peuvent être fixes ou évoluer dans le temps. Nous allons ici prendre un cas simple en utilisant un taux fixe de $0.01$ (on pourra tester d’autres valeurs).</div>"
   ]
  },
  {
   "cell_type": "markdown",
   "id": "b5b86e31-2c1f-4a8b-9b40-dfc9866403d4",
   "metadata": {},
   "source": [
    "7.\t<div align=\"justify\">Écrire une fonction $mutate(binary\\_str, mutation\\_rate)$ qui tire une nombre au hasard entre $0$ et $1$ à l’aide de $np.random.rand()$ pour chaque bit de $binary\\_str$. Si ce nombre est inférieur à $mutation\\_rate$, on mute le bit.</div>"
   ]
  },
  {
   "cell_type": "code",
   "execution_count": null,
   "id": "99e41992-31c2-4ea5-9c53-d82f41f7a165",
   "metadata": {},
   "outputs": [],
   "source": [
    "# Mutation\n",
    "def mutate(binary_str, mutation_rate):\n",
    "    binary_list = list(binary_str) # Pour transformer une chaîne de caractères en liste\n",
    "    ...\n",
    "    return ''.join(binary_list) # pour transformer une liste en chaîne de caractères"
   ]
  },
  {
   "cell_type": "markdown",
   "id": "7a1e522a-2e47-4e95-a723-8ebe63594089",
   "metadata": {},
   "source": [
    "## 6. Algorithme génétique"
   ]
  },
  {
   "cell_type": "markdown",
   "id": "e73abf90-9743-4c93-8f2c-d0852fe134ac",
   "metadata": {},
   "source": [
    "<div align=\"justify\">Nous avons tous les éléments pour écrire l’algorithme complet qui utilise les fonctions ci-dessus. En voici les étapes : </div>"
   ]
  },
  {
   "cell_type": "markdown",
   "id": "89bfd215-8657-47d4-90e9-4a6a4919ba6f",
   "metadata": {},
   "source": [
    "- Générer une population de départ, soit une liste de $population\\_size$ chaînes de caractères binaires.\n",
    "- Créer une liste vide $history$ qui va stocker les valeurs de fitness des meilleurs individus à chaque génération\n",
    "- Nous allons réaliser $100$ générations et pour chacune d’elle :\n",
    "    - Nous allons faire $N/2$ fois :\n",
    "        - Sélectionner deux individus $parent1$ et $parent 2$\n",
    "        - Faire un croisement de ces individus pour obtenir deux descendants $child1$ et $child2$\n",
    "        - Faire une mutation sur $child1$ et $child2$\n",
    "        - Mettre $child1$ et $child2$ dans la future génération\n",
    "    - On obtient ainsi une nouvelle génération de $N$ individus.\n",
    "    - Procédure d’élitisme (facultative) : si le meilleur individu de la génération parent n’a pas été sélectionné, il est copié dans la nouvelle génération à la place d’un individu choisi aléatoirement\n",
    "    - On calcule la fitness du meilleur individu de la nouvelle génération que l’on rajoute à la liste $history$\n",
    "    - On recommence le processus"
   ]
  },
  {
   "cell_type": "code",
   "execution_count": 12,
   "id": "af1a6cb0-9c6c-43cd-bda2-7a7c08b5380f",
   "metadata": {},
   "outputs": [],
   "source": [
    "# Fonction principale de l'algorithme génétique\n",
    "def genetic_algorithm(population_size, generations, mutation_rate, bit_length, x_range):\n",
    "    ...\n",
    "    return history"
   ]
  },
  {
   "cell_type": "markdown",
   "id": "a441bc8d-8a0b-471b-ba36-889380aa75fd",
   "metadata": {},
   "source": [
    "On peut tracer l’évolution sur les 100 génération de la valeur du meilleur individu :"
   ]
  },
  {
   "cell_type": "code",
   "execution_count": null,
   "id": "62beb9db-40cf-4647-9ffa-3e4f3b410c57",
   "metadata": {
    "scrolled": true
   },
   "outputs": [],
   "source": [
    "# Exécution de l'algorithme génétique\n",
    "history = genetic_algorithm(population_size, generations, mutation_rate, bit_length, x_range)\n",
    "\n",
    "# Affichage des résultats\n",
    "plt.plot(history)\n",
    "plt.title(\"Évolution de la fitness au cours des générations\")\n",
    "plt.xlabel(\"Génération\")\n",
    "plt.ylabel(\"Fitness\")\n",
    "plt.show()"
   ]
  },
  {
   "cell_type": "markdown",
   "id": "9d168683-04d7-417b-9cb0-b9106da5e405",
   "metadata": {},
   "source": [
    "## 7. Tests plus intéressants"
   ]
  },
  {
   "cell_type": "markdown",
   "id": "e4f38a4d-a01f-4068-9c64-29be26b1bd34",
   "metadata": {},
   "source": [
    "Vous pourrez tester votre algorithme sur des fonctions ayant plusieurs optima locaux comme par exemple :"
   ]
  },
  {
   "cell_type": "markdown",
   "id": "2f3be944-d284-4ecc-9b2e-f3992ef8641d",
   "metadata": {},
   "source": [
    "•\tLa fonction de Rastrigin sur $[-5.12, 5.12]$. Elle possède de nombreux minima locaux et un minimum global en 0 avec f(0)=0 :\n",
    "$$f(x) = x^2 -10 \\times cos(2\\pi x) + 10$$ "
   ]
  },
  {
   "cell_type": "markdown",
   "id": "6b6538d6-ff5d-43c1-8943-326e194c9e0d",
   "metadata": {},
   "source": [
    "•\tLa fonction de Schwefel sur $[-500,500]$ qui est très piégeuse avec beaucoup de minima locaux et un minimum global d’environ $420.9687$ avec $f(x) = -418.9829$ :\n",
    "$$ f(x) = -x \\times sin(\\sqrt{|x|})$$"
   ]
  },
  {
   "cell_type": "markdown",
   "id": "bccbfb90-7dfd-4031-b4bc-bfea2a9d8f17",
   "metadata": {},
   "source": [
    "N’hésitez pas à ajuster les paramètres : taille de la population, taux de mutation, longueur de la chaîne binaire (passage de 16 à 32 bits) pour tester les effets sur la convergence de l’algorithme."
   ]
  }
 ],
 "metadata": {
  "kernelspec": {
   "display_name": "Python [conda env:anaconda3-tf]",
   "language": "python",
   "name": "conda-env-anaconda3-tf-py"
  },
  "language_info": {
   "codemirror_mode": {
    "name": "ipython",
    "version": 3
   },
   "file_extension": ".py",
   "mimetype": "text/x-python",
   "name": "python",
   "nbconvert_exporter": "python",
   "pygments_lexer": "ipython3",
   "version": "3.7.5"
  }
 },
 "nbformat": 4,
 "nbformat_minor": 5
}
